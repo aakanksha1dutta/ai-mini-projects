{
 "cells": [
  {
   "cell_type": "code",
   "execution_count": null,
   "metadata": {},
   "outputs": [],
   "source": [
    "import sys\n",
    "import itertools\n",
    "disjunction = lambda *args: any(args)"
   ]
  },
  {
   "cell_type": "code",
   "execution_count": 43,
   "metadata": {},
   "outputs": [],
   "source": [
    "def find_pure(clauses, assignment):\n",
    "    pure = {}\n",
    "    deleted = []\n",
    "    for clause in clauses:\n",
    "        for lit in clause:\n",
    "            if lit[0]=='~':\n",
    "                c = lit[1:]\n",
    "                if c in assignment:\n",
    "                    continue\n",
    "                \n",
    "                elif c in pure:\n",
    "                    if pure[c]!=False:\n",
    "                        del pure[c]\n",
    "                        deleted.append(c)\n",
    "\n",
    "                elif c not in deleted:\n",
    "                    pure[c]=False\n",
    "                    \n",
    "            else:\n",
    "                if lit in assignment:\n",
    "                    continue\n",
    "                elif lit in pure:\n",
    "                    if pure[lit]!=True:\n",
    "                        del pure[lit]\n",
    "                        deleted.append(lit)\n",
    "                elif lit not in deleted:\n",
    "                    pure[lit]=True\n",
    "    \n",
    "    #add the clause index where index = find(pure)\n",
    "    '''listOfRemovals = []\n",
    "    for j in range(len(clauses)):'''\n",
    "\n",
    "    \n",
    "    return pure"
   ]
  },
  {
   "cell_type": "code",
   "execution_count": 45,
   "metadata": {},
   "outputs": [],
   "source": [
    "def isSat(clauses, assignment):\n",
    "    for c in clauses:\n",
    "        clause = []\n",
    "        for literal in c:\n",
    "            if literal[0]=='~':\n",
    "                clause.append(not assignment[literal[1:]])\n",
    "            else: \n",
    "                clause.append(assignment[literal])             \n",
    "        #if any disjunction is False, the entire CNF expression will be false\n",
    "        if disjunction(*clause) is False:\n",
    "            return False\n",
    "    return True"
   ]
  },
  {
   "cell_type": "code",
   "execution_count": 25,
   "metadata": {},
   "outputs": [],
   "source": [
    "def unit_heuristic(clauses, assignment):\n",
    "    clauses2 = clauses.copy()\n",
    "    for i in range(len(clauses2)):\n",
    "        clause = clauses2[i]\n",
    "        if len(clause)==1:\n",
    "            c = clause[0] \n",
    "            if c[0]==\"~\":\n",
    "                #add to assignment if it does not exist, if it exists, then it must be from contradicting unit clauses and it is unsat\n",
    "                if c[1:] in assignment and assignment[c[1:]]!=False:\n",
    "                    #stands for unsatisfiable\n",
    "                    return None, None \n",
    "                elif c[1:] not in assignment:\n",
    "                    assignment[c[1:]] = False     \n",
    "            \n",
    "            else:\n",
    "                if c in assignment and assignment[c]!=True:\n",
    "                    return None, None #stands for unsatisfiable\n",
    "                elif c not in assignment:\n",
    "                    assignment[c] = True\n",
    "            \n",
    "            #remove clause\n",
    "            clauses2[i] = None\n",
    "    \n",
    "    updated_clauses = [i for i in clauses2 if i is not None]\n",
    "                    \n",
    "    return assignment, updated_clauses"
   ]
  },
  {
   "cell_type": "code",
   "execution_count": 46,
   "metadata": {},
   "outputs": [],
   "source": [
    "def extract(lines):\n",
    "    literals = set()\n",
    "    pure = dict() #assignments to pure\n",
    "    clauses = []\n",
    "    clause_idx = 0\n",
    "    \n",
    "    for line in lines:\n",
    "    #each clause is a disjunction in cnf form\n",
    "        clause = []\n",
    "        for c in line.split(','):\n",
    "            literals.add(c if c[0]!='~' else c[1:]) #add positive literal only\n",
    "            clause.append(c)\n",
    "        clauses.append(clause)\n",
    "\n",
    "    return list(literals), clauses"
   ]
  },
  {
   "cell_type": "code",
   "execution_count": 36,
   "metadata": {},
   "outputs": [],
   "source": [
    "def allLiteralsinAssign(clause, assignment):\n",
    "    withoutsigns = []\n",
    "    for lit in clause:\n",
    "        if lit[0]=='~':\n",
    "            if lit[1:] not in assignment:\n",
    "                return False\n",
    "        else:\n",
    "            if lit not in assignment:\n",
    "                return False\n",
    "    return True\n",
    "            \n"
   ]
  },
  {
   "cell_type": "code",
   "execution_count": 41,
   "metadata": {},
   "outputs": [
    {
     "name": "stdout",
     "output_type": "stream",
     "text": [
      "True\n"
     ]
    }
   ],
   "source": [
    "print(allLiteralsinAssign(['A','~B'],{'A':True, 'B':True}))"
   ]
  },
  {
   "cell_type": "code",
   "execution_count": 48,
   "metadata": {},
   "outputs": [],
   "source": [
    "def isAnyClauseFalse(clauses, assignment):\n",
    "    if len(clauses)==0 :\n",
    "        return False\n",
    "    if len(assignment)==0:\n",
    "        return False\n",
    "    \n",
    "    #for each clause\n",
    "    for clause in clauses:\n",
    "        truth_val = []\n",
    "        #check if all literals in clause are in assignment\n",
    "        if allLiteralsinAssign(clause, assignment):\n",
    "            for literal in clause:\n",
    "                if literal[0]=='~':\n",
    "                    truth_val.append(not assignment[literal[1:]])\n",
    "                else: \n",
    "                    truth_val.append(assignment[literal])             \n",
    "        #if any disjunction is False, the entire CNF expression will be false\n",
    "            if disjunction(*truth_val) is False:\n",
    "                return True #clause is False\n",
    "    return False #cannot determine\n"
   ]
  },
  {
   "cell_type": "code",
   "execution_count": 47,
   "metadata": {},
   "outputs": [],
   "source": [
    "#are all clauses true even if assignment is incomplete\n",
    "def isClauseTrue(clauses, assignment):\n",
    "    if len(clauses)==0 or len(assignment)==0:\n",
    "        return None\n",
    "    \n",
    "    for clause in clauses:\n",
    "        clause_isTrue = False\n",
    "        \n",
    "        for literal in clause:\n",
    "            if literal[0]=='~':\n",
    "                c = literal[1:]\n",
    "                if c in assignment and assignment[c]==False:\n",
    "                    clause_isTrue = True\n",
    "                    break\n",
    "            else:\n",
    "                if literal in assignment and assignment[literal]==True:\n",
    "                    clause_isTrue=True\n",
    "                    break\n",
    "                \n",
    "        if clause_isTrue is False:\n",
    "            return None\n",
    "    return assignment"
   ]
  },
  {
   "cell_type": "code",
   "execution_count": 49,
   "metadata": {},
   "outputs": [],
   "source": [
    "def DPLL(clauses, literals, model,length,doUnit=True, doPure=True):\n",
    "\n",
    "    if len(literals)==0: #all assigned\n",
    "        #find if model is satisfiable with current clauses #satisfiable should return True or False\n",
    "        if isSat(clauses, model):\n",
    "            return model\n",
    "        else:\n",
    "            return None\n",
    "   \n",
    "    else:\n",
    "        #else, does the assignment entail True?\n",
    "        entailTrue = isClauseTrue(clauses, model)\n",
    "        if entailTrue:\n",
    "            #assign the unassigned literals, here literals, to True\n",
    "            return  {**model, **(dict.fromkeys(literals, True))}\n",
    "\n",
    "        entailFalse = isAnyClauseFalse(clauses,model)\n",
    "        if entailFalse:\n",
    "            return None\n",
    "        \n",
    "\n",
    "    #if doUnit and only before recursion or first iteration\n",
    "    if doUnit and model=={}:\n",
    "        unit_assign, updated_clauses = unit_heuristic(clauses, {})\n",
    "        if unit_assign is None:\n",
    "            return None\n",
    "        model.update(unit_assign)\n",
    "        clauses = updated_clauses\n",
    "    \n",
    "    #only check pure for first iteration, since all pure would have been found the first time or as unit\n",
    "    if doPure and model=={}:\n",
    "        pure = find_pure(clauses, model)\n",
    "        model.update(pure)\n",
    "\n",
    "\n",
    "    #if all literals have been assigned\n",
    "    if len(model)==length:\n",
    "        if isSat(clauses,model):\n",
    "            return model\n",
    "        else:\n",
    "            return None\n",
    "\n",
    "    rest = [i for i in literals if i not in model.keys()]     #unassigned_keys\n",
    "    first = rest.pop()\n",
    "\n",
    "\n",
    "    \n",
    "    return DPLL(clauses, rest, {**model, **{first:True}}, length) or DPLL(clauses, rest, {**model, **{first:False}}, length)\n",
    "\n"
   ]
  },
  {
   "cell_type": "markdown",
   "metadata": {},
   "source": [
    "----"
   ]
  },
  {
   "cell_type": "markdown",
   "metadata": {},
   "source": [
    "IGNORE\n",
    "_______"
   ]
  },
  {
   "cell_type": "code",
   "execution_count": null,
   "metadata": {},
   "outputs": [],
   "source": [
    "\n",
    "#find all possible combination of T/F values with Cartesian Product\n",
    "def assign(literals):\n",
    "    n = len(literals)\n",
    "    for i in itertools.product([True,False], repeat=n):\n",
    "        yield (dict(zip(literals, i)))"
   ]
  },
  {
   "cell_type": "code",
   "execution_count": 33,
   "metadata": {},
   "outputs": [
    {
     "data": {
      "text/plain": [
       "False"
      ]
     },
     "execution_count": 33,
     "metadata": {},
     "output_type": "execute_result"
    }
   ],
   "source": [
    "all(ele in ['A'] for ele in ['A','B'])"
   ]
  },
  {
   "cell_type": "code",
   "execution_count": 21,
   "metadata": {},
   "outputs": [
    {
     "data": {
      "text/plain": [
       "{'B': True, 'A': True, 'C': True}"
      ]
     },
     "execution_count": 21,
     "metadata": {},
     "output_type": "execute_result"
    }
   ],
   "source": [
    "{**{'B':True}, **(dict.fromkeys(['A','C'], True))}"
   ]
  },
  {
   "cell_type": "code",
   "execution_count": 26,
   "metadata": {},
   "outputs": [
    {
     "name": "stdout",
     "output_type": "stream",
     "text": [
      "None\n",
      "(None, None)\n"
     ]
    }
   ],
   "source": [
    "sometestclauses=[['A'], ['~A']]\n",
    "assign = {'A':True}\n",
    "\n",
    "print(isClauseTrue(sometestclauses, assign))\n",
    "print(unit_heuristic(sometestclauses, assign))\n",
    "\n"
   ]
  },
  {
   "cell_type": "code",
   "execution_count": null,
   "metadata": {},
   "outputs": [],
   "source": [
    "#main solver\n",
    "def cnf(lit, clauses):\n",
    "    for assignment in assign(lit):\n",
    "        if isSat(clauses, assignment) is True:\n",
    "            print(\"satisfiable\", end = \" \")\n",
    "            for key in assignment.keys():\n",
    "                print(key+'='+str(assignment.get(key))[0],end=' ')\n",
    "            print()\n",
    "            return\n",
    "    print('unsatisfiable')\n",
    "    return\n"
   ]
  }
 ],
 "metadata": {
  "kernelspec": {
   "display_name": "Python 3",
   "language": "python",
   "name": "python3"
  },
  "language_info": {
   "codemirror_mode": {
    "name": "ipython",
    "version": 3
   },
   "file_extension": ".py",
   "mimetype": "text/x-python",
   "name": "python",
   "nbconvert_exporter": "python",
   "pygments_lexer": "ipython3",
   "version": "3.11.0"
  }
 },
 "nbformat": 4,
 "nbformat_minor": 2
}
