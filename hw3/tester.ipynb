{
 "cells": [
  {
   "cell_type": "code",
   "execution_count": 217,
   "metadata": {},
   "outputs": [],
   "source": [
    "import sys\n",
    "import itertools\n",
    "disjunction = lambda *args: any(args)"
   ]
  },
  {
   "cell_type": "code",
   "execution_count": 245,
   "metadata": {},
   "outputs": [],
   "source": [
    "def find_pure(clauses):\n",
    "    pure = {}\n",
    "    reached = []\n",
    "    for clause in clauses:\n",
    "        for lit in clause:\n",
    "            if lit[0]=='~':\n",
    "                if lit[1:] in pure.keys():\n",
    "                    if pure[lit[1:]]!=False:\n",
    "                        del pure[lit[1:]]\n",
    "                elif lit[1:] not in reached:\n",
    "                    pure[lit[1:]]=False\n",
    "                    reached.append(lit)\n",
    "            else:\n",
    "                if lit in pure.keys():\n",
    "                    if pure[lit]!=True:\n",
    "                        del pure[lit]\n",
    "                elif lit not in reached:\n",
    "                    pure[lit]=True\n",
    "                    reached.append(lit)\n",
    "    \n",
    "    #add the clause index where index = find(pure)\n",
    "    '''listOfRemovals = []\n",
    "    for j in range(len(clauses)):'''\n",
    "\n",
    "    \n",
    "    return pure"
   ]
  },
  {
   "cell_type": "markdown",
   "metadata": {},
   "source": [
    "_________\n"
   ]
  },
  {
   "cell_type": "code",
   "execution_count": 314,
   "metadata": {},
   "outputs": [],
   "source": [
    "def unit_heuristic(clauses, assignment):\n",
    "    clauses2 = clauses.copy()\n",
    "    for i in range(len(clauses2)):\n",
    "        clause = clauses2[i]\n",
    "        if len(clause)==1:\n",
    "            c = clause[0] \n",
    "            if c[0]==\"~\":\n",
    "                #add to assignment if it does not exist, if it exists, then it must be from contradicting unit clauses and it is unsat\n",
    "                if c[1:] in assignment and assignment[c[1:]]!=False:\n",
    "                    #stands for unsatisfiable\n",
    "                    return None, None \n",
    "                elif c[1:] not in assignment:\n",
    "                    assignment[c[1:]] = False     \n",
    "            \n",
    "            else:\n",
    "                if c in assignment and assignment[c]!=True:\n",
    "                    return None, None #stands for unsatisfiable\n",
    "                elif c not in assignment:\n",
    "                    assignment[c] = True\n",
    "            \n",
    "            #remove clause\n",
    "            clauses2[i] = None\n",
    "    \n",
    "    updated_clauses = [i for i in clauses2 if i is not None]\n",
    "                    \n",
    "    return assignment, updated_clauses"
   ]
  },
  {
   "cell_type": "markdown",
   "metadata": {},
   "source": [
    "-------"
   ]
  },
  {
   "cell_type": "code",
   "execution_count": 247,
   "metadata": {},
   "outputs": [],
   "source": [
    "#extract literals, clauses and pure literals\n",
    "\n",
    "def extract(lines):\n",
    "    literals = set()\n",
    "    pure = dict() #assignments to pure\n",
    "    clauses = []\n",
    "    clause_idx = 0\n",
    "    \n",
    "    for line in lines:\n",
    "    #each clause is a disjunction in cnf form\n",
    "        clause = []\n",
    "        for c in line.split(','):\n",
    "            literals.add(c if c[0]!='~' else c[1:]) #add positive literal only\n",
    "            clause.append(c)\n",
    "        clauses.append(clause)\n",
    "\n",
    "    return list(literals), clauses"
   ]
  },
  {
   "cell_type": "code",
   "execution_count": 207,
   "metadata": {},
   "outputs": [],
   "source": [
    "lines = ['A,B', 'C,D', \"~A\",\"~B\"]\n",
    "literals, clauses = extract(lines)"
   ]
  },
  {
   "cell_type": "code",
   "execution_count": 208,
   "metadata": {},
   "outputs": [
    {
     "data": {
      "text/plain": [
       "['D', 'A', 'C', 'B']"
      ]
     },
     "execution_count": 208,
     "metadata": {},
     "output_type": "execute_result"
    }
   ],
   "source": [
    "literals"
   ]
  },
  {
   "cell_type": "code",
   "execution_count": 209,
   "metadata": {},
   "outputs": [
    {
     "data": {
      "text/plain": [
       "[['A', 'B'], ['C', 'D'], ['~A'], ['~B']]"
      ]
     },
     "execution_count": 209,
     "metadata": {},
     "output_type": "execute_result"
    }
   ],
   "source": [
    "clauses"
   ]
  },
  {
   "cell_type": "code",
   "execution_count": 248,
   "metadata": {},
   "outputs": [],
   "source": [
    "\n",
    "#given an assignment, check if assignment returns True for the clauses\n",
    "def isSat(clauses, assignment):\n",
    "    for c in clauses:\n",
    "        clause = []\n",
    "        for literal in c:\n",
    "            if literal[0]=='~':\n",
    "                clause.append(not assignment[literal[1:]])\n",
    "            else: \n",
    "                clause.append(assignment[literal])             \n",
    "        #if any disjunction is False, the entire CNF expression will be false\n",
    "        if disjunction(*clause) is False:\n",
    "            return False\n",
    "    return True\n"
   ]
  },
  {
   "cell_type": "code",
   "execution_count": 309,
   "metadata": {},
   "outputs": [],
   "source": [
    "def DPLL(clauses, literals, model):\n",
    "    if len(literals)==0: #all assigned\n",
    "        #find if model is satisfiable with current clauses #satisfiable should return True or False\n",
    "        if isSat(clauses, model):\n",
    "            return model\n",
    "        else:\n",
    "            return None \n",
    "    \n",
    "    unit_assign, updated_clauses = unit_heuristic(clauses, model)\n",
    "    if unit_assign is None:\n",
    "        return None\n",
    "    \n",
    "    pure = find_pure(updated_clauses)\n",
    "\n",
    "    #print(unit_assign)\n",
    "    d3 = {}\n",
    "    d3.update(pure)\n",
    "    #print(\"after pure\", d3)\n",
    "    d3.update(unit_assign)\n",
    "    #print(\"after unit\", d3)\n",
    "    d3.update(model)\n",
    "    #print(\"after model\", d3)\n",
    "\n",
    "\n",
    "    if len(d3)==len(literals):\n",
    "        if isSat(clauses,d3):\n",
    "            return d3\n",
    "        else:\n",
    "            return None\n",
    "\n",
    "    rest = [i for i in literals if i not in d3.keys()] #unassigned_keys\n",
    "    first = rest.pop()\n",
    "\n",
    "    \n",
    "    return DPLL(updated_clauses, rest, model ={**d3, **{first:True}} ) or DPLL(updated_clauses, rest, model = {**d3, **{first:False}})\n",
    "\n",
    "\n",
    "    \n"
   ]
  },
  {
   "cell_type": "code",
   "execution_count": 313,
   "metadata": {},
   "outputs": [
    {
     "name": "stdout",
     "output_type": "stream",
     "text": [
      "{'A': True, 'B': True, 'C': False, 'D': True}\n"
     ]
    }
   ],
   "source": [
    "print(DPLL(clauses, literals, {}))"
   ]
  },
  {
   "cell_type": "code",
   "execution_count": 312,
   "metadata": {},
   "outputs": [],
   "source": [
    "lines = ['~A,B', '~C,D', \"A\",\"B\"]\n",
    "literals, clauses = extract(lines)"
   ]
  },
  {
   "cell_type": "code",
   "execution_count": 216,
   "metadata": {},
   "outputs": [
    {
     "ename": "KeyboardInterrupt",
     "evalue": "",
     "output_type": "error",
     "traceback": [
      "\u001b[0;31m---------------------------------------------------------------------------\u001b[0m",
      "\u001b[0;31mKeyboardInterrupt\u001b[0m                         Traceback (most recent call last)",
      "Cell \u001b[0;32mIn [216], line 2\u001b[0m\n\u001b[1;32m      1\u001b[0m \u001b[38;5;66;03m#perform SAT with values\u001b[39;00m\n\u001b[0;32m----> 2\u001b[0m inputLines \u001b[38;5;241m=\u001b[39m \u001b[43msys\u001b[49m\u001b[38;5;241;43m.\u001b[39;49m\u001b[43mstdin\u001b[49m\u001b[38;5;241;43m.\u001b[39;49m\u001b[43mread\u001b[49m\u001b[43m(\u001b[49m\u001b[43m)\u001b[49m\u001b[38;5;241m.\u001b[39msplitlines()\n\u001b[1;32m      3\u001b[0m lit, clauses \u001b[38;5;241m=\u001b[39m literals(inputLines)\n",
      "\u001b[0;31mKeyboardInterrupt\u001b[0m: "
     ]
    }
   ],
   "source": [
    "\n",
    "#perform SAT with values\n",
    "inputLines = sys.stdin.read().splitlines()\n",
    "lit, clauses = literals(inputLines)\n"
   ]
  },
  {
   "cell_type": "markdown",
   "metadata": {},
   "source": [
    "----"
   ]
  },
  {
   "cell_type": "markdown",
   "metadata": {},
   "source": [
    "IGNORE\n",
    "_______"
   ]
  },
  {
   "cell_type": "code",
   "execution_count": 214,
   "metadata": {},
   "outputs": [],
   "source": [
    "\n",
    "#find all possible combination of T/F values with Cartesian Product\n",
    "def assign(literals):\n",
    "    n = len(literals)\n",
    "    for i in itertools.product([True,False], repeat=n):\n",
    "        yield (dict(zip(literals, i)))"
   ]
  },
  {
   "cell_type": "code",
   "execution_count": 215,
   "metadata": {},
   "outputs": [],
   "source": [
    "#main solver\n",
    "def cnf(lit, clauses):\n",
    "    for assignment in assign(lit):\n",
    "        if isSat(clauses, assignment) is True:\n",
    "            print(\"satisfiable\", end = \" \")\n",
    "            for key in assignment.keys():\n",
    "                print(key+'='+str(assignment.get(key))[0],end=' ')\n",
    "            print()\n",
    "            return\n",
    "    print('unsatisfiable')\n",
    "    return\n"
   ]
  }
 ],
 "metadata": {
  "kernelspec": {
   "display_name": "Python 3",
   "language": "python",
   "name": "python3"
  },
  "language_info": {
   "codemirror_mode": {
    "name": "ipython",
    "version": 3
   },
   "file_extension": ".py",
   "mimetype": "text/x-python",
   "name": "python",
   "nbconvert_exporter": "python",
   "pygments_lexer": "ipython3",
   "version": "3.11.0"
  }
 },
 "nbformat": 4,
 "nbformat_minor": 2
}
