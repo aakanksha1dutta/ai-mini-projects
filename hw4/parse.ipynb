{
 "cells": [
  {
   "cell_type": "code",
   "execution_count": 1,
   "metadata": {},
   "outputs": [
    {
     "name": "stdout",
     "output_type": "stream",
     "text": [
      "Table for variable B\n",
      "       B  withself\n",
      "0   True     0.001\n",
      "1  False     0.999\n",
      "Table for variable E\n",
      "       E  withself\n",
      "0   True     0.002\n",
      "1  False     0.998\n",
      "Table for variable A\n",
      "       B      E      A\n",
      "0   True   True  0.950\n",
      "1   True  False  0.940\n",
      "2  False   True  0.290\n",
      "3  False  False  0.001\n",
      "Table for variable J\n",
      "       A     J\n",
      "0   True  0.90\n",
      "1  False  0.05\n",
      "Table for variable M\n",
      "       A     M\n",
      "0   True  0.70\n",
      "1  False  0.01\n"
     ]
    }
   ],
   "source": [
    "import pandas as pd\n",
    "from itertools import product\n",
    "\n",
    "def parse_table(tables, parents):\n",
    "    parsed_tables = {}\n",
    "    for key, vars in parents.items():\n",
    "        if vars is not None:\n",
    "            vars_list = list(vars)\n",
    "            parents_num = len(vars)\n",
    "            combos = product([True, False], repeat=parents_num)\n",
    "            combos_list = list(combos)\n",
    "            prob_list = list(tables[key])\n",
    "            df_list = list()\n",
    "            i = 4*parents_num #num of prob values in output of A\n",
    "            j = 0\n",
    "            while j != i:\n",
    "                df_list.append(prob_list[j])\n",
    "                j += 2\n",
    "\n",
    "            df_key=pd.DataFrame(df_list, columns=[key])\n",
    "            cpt = pd.DataFrame(combos_list, columns=vars_list)\n",
    "            cpt[key] = df_key\n",
    "            parsed_tables[key] = cpt\n",
    "\n",
    "        else:\n",
    "            combos_list = [True, False]\n",
    "            cpt = pd.DataFrame(combos_list, columns=[key])\n",
    "            prob_list = list(tables[key])\n",
    "            df_key=pd.DataFrame(prob_list)\n",
    "            cpt['withself'] = df_key\n",
    "        parsed_tables[key] = cpt\n",
    "    return parsed_tables\n",
    "\n",
    "parents = {'B': None, 'E': None, 'A': ['B', 'E'], 'J': ['A'], 'M': ['A']}\n",
    "tables = {'B': [0.001, 0.999], 'E': [0.002, 0.998], 'A': [0.95, 0.05, 0.94, 0.06, 0.29, 0.71, 0.001, 0.999], 'J': [0.9, 0.1, 0.05, 0.95], 'M': [0.7, 0.3, 0.01, 0.99]}\n",
    "\n",
    "parsed_tables = parse_table(tables, parents)\n",
    "for key, table in parsed_tables.items():\n",
    "    print(\"Table for variable\", key)\n",
    "    print(table)"
   ]
  },
  {
   "cell_type": "code",
   "execution_count": 3,
   "metadata": {},
   "outputs": [
    {
     "data": {
      "text/plain": [
       "0    0.95\n",
       "Name: A, dtype: float64"
      ]
     },
     "execution_count": 3,
     "metadata": {},
     "output_type": "execute_result"
    }
   ],
   "source": [
    "random_var = 'A'\n",
    "df = parsed_tables[random_var]\n",
    "df[(df['B']==True)&(df['E']==True)][random_var]"
   ]
  },
  {
   "cell_type": "code",
   "execution_count": 19,
   "metadata": {},
   "outputs": [
    {
     "data": {
      "text/plain": [
       "'Other'"
      ]
     },
     "execution_count": 19,
     "metadata": {},
     "output_type": "execute_result"
    }
   ],
   "source": [
    "import numpy as np\n",
    "x = np.random.choice([True, False, \"Other\"], p=[0.33,0.32,0.35])\n",
    "x"
   ]
  },
  {
   "cell_type": "code",
   "execution_count": 29,
   "metadata": {},
   "outputs": [
    {
     "name": "stdout",
     "output_type": "stream",
     "text": [
      "Table for variable B\n",
      "       B  withself\n",
      "0   true     0.001\n",
      "1  false     0.999\n",
      "Table for variable E\n",
      "       E  withself\n",
      "0   true     0.002\n",
      "1  false     0.998\n",
      "Table for variable A\n",
      "       B      E   true  false\n",
      "0   true   true  0.950  0.050\n",
      "1   true  false  0.940  0.060\n",
      "2  false   true  0.290  0.710\n",
      "3  false  false  0.001  0.999\n",
      "Table for variable J\n",
      "       A  true  false\n",
      "0   true  0.90   0.10\n",
      "1  false  0.05   0.95\n",
      "Table for variable M\n",
      "       A  true  false\n",
      "0   true  0.70   0.30\n",
      "1  false  0.01   0.99\n"
     ]
    }
   ],
   "source": [
    "# GENERAL PARSER\n",
    "import pandas as pd\n",
    "from itertools import product\n",
    "\n",
    "def parse_table(tables, parents, domain):\n",
    "    parsed_tables = {}\n",
    "    for key, vars in parents.items():\n",
    "        if vars is not None:\n",
    "\n",
    "            parents_list = list(vars) #list of parents of A\n",
    "            domain_list = domain.keys() #list of total variables\n",
    "            parent_val = [] #list of lists\n",
    "\n",
    "            for par in domain_list:\n",
    "                 if par in parents_list:\n",
    "                      parent_val.append(domain.get(par)) #LIST OF LISTS\n",
    "            \n",
    "            combos = product(*parent_val)\n",
    "            combos_list = list(combos) #possible combinations\n",
    "\n",
    "            #prob_list = list(tables[key]) # values of A\n",
    "\n",
    "            cpt = pd.DataFrame(combos_list, columns=parents_list) #parents kdf  \n",
    "            i = 0\n",
    "            l = len(domain[key])\n",
    "            for d in domain[key]: #in A\n",
    "                somelist = list()\n",
    "                for j in range (i, len(tables[key]),l):\n",
    "                    somelist.append(tables[key][j])\n",
    "                cpt[d] = somelist    \n",
    "                i +=1\n",
    "            #cpt = pd.DataFrame(combos_list, columns=parents_list) #parents kdf  \n",
    "            #cpt[key] = df_var #combined df\n",
    "            parsed_tables[key] = cpt\n",
    "            \n",
    "        else:\n",
    "            combos_list = domain[key]\n",
    "            cpt = pd.DataFrame(combos_list, columns=[key])\n",
    "            prob_list = list(tables[key])\n",
    "            df_key=pd.DataFrame(prob_list)\n",
    "            cpt['withself'] = df_key\n",
    "        parsed_tables[key] = cpt\n",
    "    return parsed_tables\n",
    "\n",
    "#domain = {'B': ['true', 'false', 'other'], 'E': ['true', 'false'], 'A': ['true', 'false'], 'J': ['true', 'false'], 'M': ['true', 'false']}\n",
    "#parents = {'B': None, 'E': None, 'A': ['B', 'E'], 'J': ['A'], 'M': ['A']}\n",
    "#tables = {'B': [0.001, 0.999], 'E': [0.002, 0.998], 'A': [0.95, 0.05, 0.94, 0.06, 0.29, 0.71, 0.001, 0.999, 0.04, 0.96, 0.95,0.05], 'J': [0.9, 0.1, 0.05, 0.95], 'M': [0.7, 0.3, 0.01, 0.99]}\n",
    "\n",
    "domain = {'B': ['true', 'false'], 'E': ['true', 'false'], 'A': ['true', 'false'], 'J': ['true', 'false'], 'M': ['true', 'false']}\n",
    "parents = {'B': None, 'E': None, 'A': ['B', 'E'], 'J': ['A'], 'M': ['A']}\n",
    "tables = {'B': [0.001, 0.999], 'E': [0.002, 0.998], 'A': [0.95, 0.05, 0.94, 0.06, 0.29, 0.71, 0.001, 0.999], 'J': [0.9, 0.1, 0.05, 0.95], 'M': [0.7, 0.3, 0.01, 0.99]}\n",
    "\n",
    "parsed_tables = parse_table(tables, parents, domain)\n",
    "for key, table in parsed_tables.items():\n",
    "    print(\"Table for variable\", key)\n",
    "    print(table)"
   ]
  },
  {
   "cell_type": "code",
   "execution_count": 30,
   "metadata": {},
   "outputs": [],
   "source": [
    "def pos_prob(random_var, value, parsed_tables, given_random_var=None, given_val = None):\n",
    "    #print(given_random_var)\n",
    "    if given_random_var is None:\n",
    "        df=parsed_tables[random_var]\n",
    "        filter = (df[random_var]==value)\n",
    "        return float(df[filter]['withself'])\n",
    "    \n",
    "    elif given_random_var is not None:\n",
    "        df = parsed_tables[random_var]\n",
    "        filter = True\n",
    "        for p in given_random_var:\n",
    "            filter = filter & (df[p]==given_val[p])\n",
    "        return float(df[filter][value])\n",
    "    else:\n",
    "        return 0 "
   ]
  },
  {
   "cell_type": "code",
   "execution_count": 33,
   "metadata": {},
   "outputs": [
    {
     "name": "stderr",
     "output_type": "stream",
     "text": [
      "C:\\Users\\HP\\AppData\\Local\\Temp\\ipykernel_20788\\3130009491.py:13: FutureWarning: Calling float on a single element Series is deprecated and will raise a TypeError in the future. Use float(ser.iloc[0]) instead\n",
      "  return float(df[filter][value])\n"
     ]
    },
    {
     "data": {
      "text/plain": [
       "0.05"
      ]
     },
     "execution_count": 33,
     "metadata": {},
     "output_type": "execute_result"
    }
   ],
   "source": [
    "pos_prob('A', 'false', parsed_tables, ['B','E'], {'B':'true', 'E':'true'})"
   ]
  }
 ],
 "metadata": {
  "kernelspec": {
   "display_name": "Python 3",
   "language": "python",
   "name": "python3"
  },
  "language_info": {
   "codemirror_mode": {
    "name": "ipython",
    "version": 3
   },
   "file_extension": ".py",
   "mimetype": "text/x-python",
   "name": "python",
   "nbconvert_exporter": "python",
   "pygments_lexer": "ipython3",
   "version": "3.12.1"
  }
 },
 "nbformat": 4,
 "nbformat_minor": 2
}
