{
 "cells": [
  {
   "cell_type": "code",
   "execution_count": 1,
   "metadata": {},
   "outputs": [
    {
     "name": "stdout",
     "output_type": "stream",
     "text": [
      "Table for variable B\n",
      "       B  withself\n",
      "0   True     0.001\n",
      "1  False     0.999\n",
      "Table for variable E\n",
      "       E  withself\n",
      "0   True     0.002\n",
      "1  False     0.998\n",
      "Table for variable A\n",
      "       B      E      A\n",
      "0   True   True  0.950\n",
      "1   True  False  0.940\n",
      "2  False   True  0.290\n",
      "3  False  False  0.001\n",
      "Table for variable J\n",
      "       A     J\n",
      "0   True  0.90\n",
      "1  False  0.05\n",
      "Table for variable M\n",
      "       A     M\n",
      "0   True  0.70\n",
      "1  False  0.01\n"
     ]
    }
   ],
   "source": [
    "import pandas as pd\n",
    "from itertools import product\n",
    "\n",
    "def parse_table(tables, parents):\n",
    "    parsed_tables = {}\n",
    "    for key, vars in parents.items():\n",
    "        if vars is not None:\n",
    "            vars_list = list(vars)\n",
    "            parents_num = len(vars)\n",
    "            combos = product([True, False], repeat=parents_num)\n",
    "            combos_list = list(combos)\n",
    "            prob_list = list(tables[key])\n",
    "            df_list = list()\n",
    "            i = 4*parents_num #num of prob values in output of A\n",
    "            j = 0\n",
    "            while j != i:\n",
    "                df_list.append(prob_list[j])\n",
    "                j += 2\n",
    "\n",
    "            df_key=pd.DataFrame(df_list, columns=[key])\n",
    "            cpt = pd.DataFrame(combos_list, columns=vars_list)\n",
    "            cpt[key] = df_key\n",
    "            parsed_tables[key] = cpt\n",
    "\n",
    "        else:\n",
    "            combos_list = [True, False]\n",
    "            cpt = pd.DataFrame(combos_list, columns=[key])\n",
    "            prob_list = list(tables[key])\n",
    "            df_key=pd.DataFrame(prob_list)\n",
    "            cpt['withself'] = df_key\n",
    "        parsed_tables[key] = cpt\n",
    "    return parsed_tables\n",
    "\n",
    "parents = {'B': None, 'E': None, 'A': ['B', 'E'], 'J': ['A'], 'M': ['A']}\n",
    "tables = {'B': [0.001, 0.999], 'E': [0.002, 0.998], 'A': [0.95, 0.05, 0.94, 0.06, 0.29, 0.71, 0.001, 0.999], 'J': [0.9, 0.1, 0.05, 0.95], 'M': [0.7, 0.3, 0.01, 0.99]}\n",
    "\n",
    "parsed_tables = parse_table(tables, parents)\n",
    "for key, table in parsed_tables.items():\n",
    "    print(\"Table for variable\", key)\n",
    "    print(table)"
   ]
  },
  {
   "cell_type": "code",
   "execution_count": 3,
   "metadata": {},
   "outputs": [
    {
     "data": {
      "text/plain": [
       "0    0.95\n",
       "Name: A, dtype: float64"
      ]
     },
     "execution_count": 3,
     "metadata": {},
     "output_type": "execute_result"
    }
   ],
   "source": [
    "random_var = 'A'\n",
    "df = parsed_tables[random_var]\n",
    "df[(df['B']==True)&(df['E']==True)][random_var]"
   ]
  },
  {
   "cell_type": "code",
   "execution_count": 19,
   "metadata": {},
   "outputs": [
    {
     "data": {
      "text/plain": [
       "'Other'"
      ]
     },
     "execution_count": 19,
     "metadata": {},
     "output_type": "execute_result"
    }
   ],
   "source": [
    "import numpy as np\n",
    "x = np.random.choice([True, False, \"Other\"], p=[0.33,0.32,0.35])\n",
    "x"
   ]
  }
 ],
 "metadata": {
  "kernelspec": {
   "display_name": "Python 3",
   "language": "python",
   "name": "python3"
  },
  "language_info": {
   "codemirror_mode": {
    "name": "ipython",
    "version": 3
   },
   "file_extension": ".py",
   "mimetype": "text/x-python",
   "name": "python",
   "nbconvert_exporter": "python",
   "pygments_lexer": "ipython3",
   "version": "3.11.0"
  }
 },
 "nbformat": 4,
 "nbformat_minor": 2
}
